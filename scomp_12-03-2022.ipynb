{
 "cells": [
  {
   "cell_type": "code",
   "execution_count": 41,
   "metadata": {},
   "outputs": [
    {
     "name": "stdout",
     "output_type": "stream",
     "text": [
      "Food synergy\n"
     ]
    }
   ],
   "source": [
    "from pymed import PubMed\n",
    "import pandas as pd\n",
    "\n",
    "pubmed = PubMed(tool=\"PubMedSearcher\", email=\"myemail@ccc.com\")\n",
    "\n",
    "## PUT YOUR SEARCH TERM HERE ##\n",
    "search_term = \"Food synergy\"\n",
    "print(search_term)\n",
    "results = pubmed.query(search_term, max_results=10)\n",
    "articleList = []\n",
    "articleInfo = []\n",
    "\n",
    "for article in results:\n",
    "# Print the type of object we've found (can be either PubMedBookArticle or PubMedArticle).\n",
    "# We need to convert it to dictionary with available function\n",
    "    articleDict = article.toDict()\n",
    "    articleList.append(articleDict)\n",
    "\n",
    "# Generate list of dict records which will hold all article details that could be fetch from PUBMED API\n",
    "for article in articleList:\n",
    "#Sometimes article['pubmed_id'] contains list separated with comma - take first pubmedId in that list - thats article pubmedId\n",
    "    pubmedId = article['pubmed_id'].partition('\\n')[0]\n",
    "    # Append article info to dictionary \n",
    "    articleInfo.append({u'pubmed_id':pubmedId,\n",
    "                       u'title':article['title'],\n",
    "                       u'keywords':article['keywords'],\n",
    "                       u'journal':article['journal'],\n",
    "                       u'abstract':article['abstract'],\n",
    "                       u'conclusions':article['conclusions'],\n",
    "                       u'methods':article['methods'],\n",
    "                       u'results': article['results'],\n",
    "                       u'copyrights':article['copyrights'],\n",
    "                       u'doi':article['doi'],\n",
    "                       u'publication_date':article['publication_date'], \n",
    "                       u'authors':article['authors']})\n",
    "\n",
    "# Generate Pandas DataFrame from list of dictionaries\n",
    "df = pd.DataFrame.from_dict(articleInfo)\n",
    "export_csv = df.to_csv ('export_dataframe.csv', index = None, header=True) \n",
    "\n",
    "#Print first 10 rows of dataframe\n",
    "#print(articlesPD.head(10))"
   ]
  },
  {
   "cell_type": "code",
   "execution_count": null,
   "metadata": {},
   "outputs": [],
   "source": []
  }
 ],
 "metadata": {
  "kernelspec": {
   "display_name": "Python 3",
   "language": "python",
   "name": "python3"
  },
  "language_info": {
   "codemirror_mode": {
    "name": "ipython",
    "version": 3
   },
   "file_extension": ".py",
   "mimetype": "text/x-python",
   "name": "python",
   "nbconvert_exporter": "python",
   "pygments_lexer": "ipython3",
   "version": "3.8.3"
  }
 },
 "nbformat": 4,
 "nbformat_minor": 4
}
